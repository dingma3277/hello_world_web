{
 "cells": [
  {
   "cell_type": "code",
   "execution_count": 1,
   "metadata": {},
   "outputs": [
    {
     "name": "stdout",
     "output_type": "stream",
     "text": [
      "Hello World!\n"
     ]
    }
   ],
   "source": [
    "#20190917\n",
    "print(\"Hello World!\")"
   ]
  },
  {
   "cell_type": "code",
   "execution_count": 2,
   "metadata": {},
   "outputs": [
    {
     "name": "stdout",
     "output_type": "stream",
     "text": [
      "100 - 25 * 3 % 4 + 31/6 =  102.16666666666667\n",
      "100 - 25 * 3 % 4 + 31./6 =  102.16666666666667\n",
      "5 >= -2: True\n"
     ]
    }
   ],
   "source": [
    "print(\"100 - 25 * 3 % 4 + 31/6 = \", 100 - 25 * 3 % 4 + 31/6)\n",
    "print(\"100 - 25 * 3 % 4 + 31./6 = \", 100 - 25 * 3 % 4 + 31./6)\n",
    "print(\"5 >= -2:\", 5 >= -2)"
   ]
  },
  {
   "cell_type": "code",
   "execution_count": 3,
   "metadata": {},
   "outputs": [
    {
     "name": "stdout",
     "output_type": "stream",
     "text": [
      "there are 4 cars from Ford\n",
      "there are 4 cars from Ford.\n"
     ]
    }
   ],
   "source": [
    "car_make = 'Ford'\n",
    "car_number = 4\n",
    "print(\"there are\", car_number, \"cars from\", car_make)\n",
    "print(\"there are %d cars from %s.\" % (car_number, car_make))"
   ]
  },
  {
   "cell_type": "code",
   "execution_count": 4,
   "metadata": {},
   "outputs": [
    {
     "name": "stdout",
     "output_type": "stream",
     "text": [
      "there are 4 cars from Ford.\n",
      "This is the left side of...a string with a right side.\n"
     ]
    }
   ],
   "source": [
    "y = \"there are %d cars from %s.\" % (car_number, car_make)\n",
    "print(y)\n",
    "w = \"This is the left side of...\"\n",
    "e = \"a string with a right side.\"\n",
    "print(w+e)"
   ]
  },
  {
   "cell_type": "code",
   "execution_count": 5,
   "metadata": {},
   "outputs": [
    {
     "name": "stdout",
     "output_type": "stream",
     "text": [
      "\n",
      "There's something going on here.\n",
      "With the three double-quotes.\n",
      "We'll be able to type as much as we like.\n",
      "Even 4 lines if we want, or 5, or 6.\n",
      "\n"
     ]
    }
   ],
   "source": [
    "print(\"\"\"\n",
    "There's something going on here.\n",
    "With the three double-quotes.\n",
    "We'll be able to type as much as we like.\n",
    "Even 4 lines if we want, or 5, or 6.\n",
    "\"\"\")"
   ]
  },
  {
   "cell_type": "code",
   "execution_count": 6,
   "metadata": {},
   "outputs": [
    {
     "name": "stdout",
     "output_type": "stream",
     "text": [
      "/\n",
      "\\\n"
     ]
    }
   ],
   "source": [
    "##while True:\n",
    "for i in [\"/\",\"\\\\\"]:\n",
    "    print(\"%s\" % i)"
   ]
  },
  {
   "cell_type": "code",
   "execution_count": null,
   "metadata": {},
   "outputs": [],
   "source": []
  },
  {
   "cell_type": "code",
   "execution_count": null,
   "metadata": {},
   "outputs": [],
   "source": []
  },
  {
   "cell_type": "code",
   "execution_count": 7,
   "metadata": {},
   "outputs": [
    {
     "name": "stdout",
     "output_type": "stream",
     "text": [
      "[NbConvertApp] Converting notebook ex001.ipynb to script\n",
      "[NbConvertApp] Writing 842 bytes to ex001.py\n"
     ]
    }
   ],
   "source": [
    "!jupyter nbconvert --to script ex001.ipynb"
   ]
  }
 ],
 "metadata": {
  "kernelspec": {
   "display_name": "Python 3",
   "language": "python",
   "name": "python3"
  },
  "language_info": {
   "codemirror_mode": {
    "name": "ipython",
    "version": 3
   },
   "file_extension": ".py",
   "mimetype": "text/x-python",
   "name": "python",
   "nbconvert_exporter": "python",
   "pygments_lexer": "ipython3",
   "version": "3.6.5"
  }
 },
 "nbformat": 4,
 "nbformat_minor": 2
}
