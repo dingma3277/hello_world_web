{
 "cells": [
  {
   "cell_type": "code",
   "execution_count": 1,
   "metadata": {},
   "outputs": [],
   "source": [
    "def print_all(f):\n",
    "    print(f.read())\n",
    "def rewind(f,current_line):\n",
    "    f.seek(current_line)\n",
    "def print_a_line(line_count, f):\n",
    "    print(line_count, f.readline())"
   ]
  },
  {
   "cell_type": "code",
   "execution_count": 2,
   "metadata": {},
   "outputs": [
    {
     "name": "stdout",
     "output_type": "stream",
     "text": [
      "aaaaaaa\n",
      "bbbbbbb\n",
      "ccccccc\n",
      "ddddddd\n",
      "eeeeeee\n",
      "\n"
     ]
    }
   ],
   "source": [
    "filename = 'input.txt'\n",
    "file_input = open(filename)\n",
    "print_all(file_input)"
   ]
  },
  {
   "cell_type": "code",
   "execution_count": 3,
   "metadata": {},
   "outputs": [
    {
     "name": "stdout",
     "output_type": "stream",
     "text": [
      "aaaaaaa\n",
      "\n"
     ]
    }
   ],
   "source": [
    "rewind(file_input,0)\n",
    "print(file_input.readline())"
   ]
  },
  {
   "cell_type": "code",
   "execution_count": 4,
   "metadata": {},
   "outputs": [
    {
     "name": "stdout",
     "output_type": "stream",
     "text": [
      "2 bbbbbbb\n",
      "\n"
     ]
    }
   ],
   "source": [
    "current_line = 2\n",
    "print_a_line(current_line, file_input)"
   ]
  }
 ],
 "metadata": {
  "kernelspec": {
   "display_name": "Python 3",
   "language": "python",
   "name": "python3"
  },
  "language_info": {
   "codemirror_mode": {
    "name": "ipython",
    "version": 3
   },
   "file_extension": ".py",
   "mimetype": "text/x-python",
   "name": "python",
   "nbconvert_exporter": "python",
   "pygments_lexer": "ipython3",
   "version": "3.6.5"
  }
 },
 "nbformat": 4,
 "nbformat_minor": 2
}
