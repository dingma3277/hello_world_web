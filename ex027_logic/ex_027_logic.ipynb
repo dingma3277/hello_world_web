{
 "cells": [
  {
   "cell_type": "code",
   "execution_count": 1,
   "metadata": {},
   "outputs": [],
   "source": [
    "y = [1, 2, 3, 4, 5]\n",
    "y2 = [6,7,8,9,10]\n",
    "y2d = [y,y2]"
   ]
  },
  {
   "cell_type": "code",
   "execution_count": 2,
   "metadata": {},
   "outputs": [
    {
     "name": "stdout",
     "output_type": "stream",
     "text": [
      "I got [1, 2, 3, 4, 5]\n",
      "I got [6, 7, 8, 9, 10]\n",
      "[7, 8]\n"
     ]
    }
   ],
   "source": [
    "for i in y2d:\n",
    "    print(\"I got %r\" % i)\n",
    "    \n",
    "print(y2d[1][1:3])"
   ]
  },
  {
   "cell_type": "code",
   "execution_count": 3,
   "metadata": {},
   "outputs": [
    {
     "name": "stdout",
     "output_type": "stream",
     "text": [
      "Adding 5 to the list.\n",
      "[0, 1, 2, 3, 4, 5]\n"
     ]
    }
   ],
   "source": [
    "elements = []\n",
    "for i in range(0, 6):\n",
    "    if i>4:\n",
    "        print(\"Adding %d to the list.\" % i)\n",
    "    elements.append(i)\n",
    "print(elements)"
   ]
  },
  {
   "cell_type": "code",
   "execution_count": 4,
   "metadata": {},
   "outputs": [
    {
     "name": "stdout",
     "output_type": "stream",
     "text": [
      "The numbers: \n",
      "5\n"
     ]
    }
   ],
   "source": [
    "i=0\n",
    "numbers = []\n",
    "while i<6:\n",
    "    numbers.append(i)\n",
    "    i=i+1\n",
    "#    print \"Numbers now: \", numbers\n",
    "print(\"The numbers: \")\n",
    "for num in numbers: \n",
    "    if num>5:\n",
    "        print(num)\n",
    "print(num)"
   ]
  },
  {
   "cell_type": "code",
   "execution_count": null,
   "metadata": {},
   "outputs": [],
   "source": []
  },
  {
   "cell_type": "code",
   "execution_count": null,
   "metadata": {},
   "outputs": [],
   "source": []
  }
 ],
 "metadata": {
  "kernelspec": {
   "display_name": "Python 3",
   "language": "python",
   "name": "python3"
  },
  "language_info": {
   "codemirror_mode": {
    "name": "ipython",
    "version": 3
   },
   "file_extension": ".py",
   "mimetype": "text/x-python",
   "name": "python",
   "nbconvert_exporter": "python",
   "pygments_lexer": "ipython3",
   "version": "3.6.5"
  }
 },
 "nbformat": 4,
 "nbformat_minor": 2
}
